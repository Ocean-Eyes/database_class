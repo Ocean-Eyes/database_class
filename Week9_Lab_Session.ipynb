{
  "nbformat": 4,
  "nbformat_minor": 0,
  "metadata": {
    "colab": {
      "provenance": [],
      "collapsed_sections": [],
      "authorship_tag": "ABX9TyNi+6Ckk/jhs9jXVYagYZzF",
      "include_colab_link": true
    },
    "kernelspec": {
      "name": "python3",
      "display_name": "Python 3"
    },
    "language_info": {
      "name": "python"
    }
  },
  "cells": [
    {
      "cell_type": "markdown",
      "metadata": {
        "id": "view-in-github",
        "colab_type": "text"
      },
      "source": [
        "<a href=\"https://colab.research.google.com/github/Ocean-Eyes/database_class/blob/main/Week9_Lab_Session.ipynb\" target=\"_parent\"><img src=\"https://colab.research.google.com/assets/colab-badge.svg\" alt=\"Open In Colab\"/></a>"
      ]
    },
    {
      "cell_type": "code",
      "execution_count": 1,
      "metadata": {
        "colab": {
          "base_uri": "https://localhost:8080/"
        },
        "id": "IbpApdoZiMX3",
        "outputId": "a8addccf-133a-456d-9105-da884bdbfe3b"
      },
      "outputs": [
        {
          "output_type": "stream",
          "name": "stdout",
          "text": [
            "sqlite\n"
          ]
        }
      ],
      "source": [
        "from sqlalchemy import create_engine\n",
        "my_conn = create_engine(\"sqlite:////content/my_db.db\")\n",
        "print(my_conn.name)"
      ]
    },
    {
      "cell_type": "code",
      "source": [
        "r_set=my_conn.execute('''select name from sqlite_master where type='table' ''')\n",
        "for row in r_set:\n",
        "  print(row)"
      ],
      "metadata": {
        "colab": {
          "base_uri": "https://localhost:8080/"
        },
        "id": "PQMUhdoXixh2",
        "outputId": "20ce6f03-f704-4023-a633-9ae3db5ddb38"
      },
      "execution_count": 2,
      "outputs": [
        {
          "output_type": "stream",
          "name": "stdout",
          "text": [
            "('category',)\n",
            "('subcategory',)\n",
            "('student',)\n"
          ]
        }
      ]
    },
    {
      "cell_type": "code",
      "source": [
        "r_set = my_conn.execute('''SELECT * FROM student''')\n",
        "for row in r_set:\n",
        "  print(row)"
      ],
      "metadata": {
        "colab": {
          "base_uri": "https://localhost:8080/"
        },
        "id": "K72k2N22jvoR",
        "outputId": "11404827-f236-409d-c43c-418cb25fc66f"
      },
      "execution_count": 3,
      "outputs": [
        {
          "output_type": "stream",
          "name": "stdout",
          "text": [
            "(1, 'John Deo', 'Four', 75, 'female')\n",
            "(2, 'Max Ruin', 'Three', 85, 'male')\n",
            "(3, 'Arnold', 'Three', 55, 'male')\n",
            "(4, 'Krish Star', 'Four', 60, 'female')\n",
            "(5, 'John Mike', 'Four', 60, 'female')\n",
            "(6, 'Alex John', 'Four', 55, 'male')\n",
            "(7, 'My John Rob', 'Five', 78, 'male')\n",
            "(8, 'Asruid', 'Five', 85, 'male')\n",
            "(9, 'Tes Qry', 'Six', 78, 'male')\n",
            "(10, 'Big John', 'Four', 55, 'female')\n",
            "(11, 'Ronald', 'Six', 89, 'female')\n",
            "(12, 'Recky', 'Six', 94, 'female')\n",
            "(13, 'Kty', 'Seven', 88, 'female')\n",
            "(14, 'Bigy', 'Seven', 88, 'female')\n",
            "(15, 'Tade Row', 'Four', 88, 'male')\n",
            "(16, 'Gimmy', 'Four', 88, 'male')\n",
            "(17, 'Tumyu', 'Six', 54, 'male')\n",
            "(18, 'Honny', 'Five', 75, 'male')\n",
            "(19, 'Tinny', 'Nine', 18, 'male')\n",
            "(20, 'Jackly', 'Nine', 65, 'female')\n",
            "(21, 'Babby John', 'Four', 69, 'female')\n",
            "(22, 'Reggid', 'Seven', 55, 'female')\n",
            "(23, 'Herod', 'Eight', 79, 'male')\n",
            "(24, 'Tiddy Now', 'Seven', 78, 'male')\n",
            "(25, 'Giff Tow', 'Seven', 88, 'male')\n",
            "(26, 'Crelea', 'Seven', 79, 'male')\n",
            "(27, 'Big Nose', 'Three', 81, 'female')\n",
            "(28, 'Rojj Base', 'Seven', 86, 'female')\n",
            "(29, 'Tess Played', 'Seven', 55, 'male')\n",
            "(30, 'Reppy Red', 'Six', 79, 'female')\n",
            "(31, 'Marry Toeey', 'Four', 88, 'male')\n",
            "(32, 'Binn Rott', 'Seven', 90, 'female')\n",
            "(33, 'Kenn Rein', 'Six', 96, 'female')\n",
            "(34, 'Gain Toe', 'Seven', 69, 'male')\n",
            "(35, 'Rows Noump', 'Six', 88, 'female')\n"
          ]
        }
      ]
    },
    {
      "cell_type": "code",
      "source": [
        "r_set = my_conn.execute('''SELECT * FROM category''')\n",
        "for row in r_set:\n",
        "  print(row)"
      ],
      "metadata": {
        "colab": {
          "base_uri": "https://localhost:8080/"
        },
        "id": "ar29F-jmj4lF",
        "outputId": "95e81527-c43f-4828-e557-99819b57f3f6"
      },
      "execution_count": 4,
      "outputs": [
        {
          "output_type": "stream",
          "name": "stdout",
          "text": [
            "(1, 'Fruits')\n",
            "(2, 'Colors')\n",
            "(3, 'Games')\n",
            "(4, 'Vehicles')\n"
          ]
        }
      ]
    },
    {
      "cell_type": "code",
      "source": [
        "r_set = my_conn.execute('''SELECT * FROM subcategory''')\n",
        "for row in r_set:\n",
        "  print(row)"
      ],
      "metadata": {
        "colab": {
          "base_uri": "https://localhost:8080/"
        },
        "id": "1rfVfxq3j-y_",
        "outputId": "7e798be1-508d-4491-833d-8986d4a14da1"
      },
      "execution_count": 5,
      "outputs": [
        {
          "output_type": "stream",
          "name": "stdout",
          "text": [
            "(1, 'Mango')\n",
            "(1, 'Banana')\n",
            "(1, 'Orange')\n",
            "(1, 'Apple')\n",
            "(2, 'Red')\n",
            "(2, 'Blue')\n",
            "(2, 'Green')\n",
            "(2, 'Yellow')\n",
            "(3, 'Cricket')\n",
            "(3, 'Football')\n",
            "(3, 'Baseball')\n",
            "(3, 'Tennis')\n",
            "(4, 'Cars')\n",
            "(4, 'Trucks')\n",
            "(4, 'Bikes')\n",
            "(4, 'Train')\n"
          ]
        }
      ]
    },
    {
      "cell_type": "code",
      "source": [
        "# display all records of particular class only\n",
        "q = \"SELECT id, name ,class, mark, sex FROM student WHERE class = 'Four'\"\n",
        "my_cursor = my_conn.execute(q)\n",
        "for row in my_cursor:\n",
        "  print(row)"
      ],
      "metadata": {
        "colab": {
          "base_uri": "https://localhost:8080/"
        },
        "id": "MmfL3lEJkOoy",
        "outputId": "e64b3e6e-3e0a-4076-eabd-34510df4ca58"
      },
      "execution_count": 6,
      "outputs": [
        {
          "output_type": "stream",
          "name": "stdout",
          "text": [
            "(1, 'John Deo', 'Four', 75, 'female')\n",
            "(4, 'Krish Star', 'Four', 60, 'female')\n",
            "(5, 'John Mike', 'Four', 60, 'female')\n",
            "(6, 'Alex John', 'Four', 55, 'male')\n",
            "(10, 'Big John', 'Four', 55, 'female')\n",
            "(15, 'Tade Row', 'Four', 88, 'male')\n",
            "(16, 'Gimmy', 'Four', 88, 'male')\n",
            "(21, 'Babby John', 'Four', 69, 'female')\n",
            "(31, 'Marry Toeey', 'Four', 88, 'male')\n"
          ]
        }
      ]
    },
    {
      "cell_type": "code",
      "source": [
        "my_cursor = my_conn.execute(\"select id, name, class, mark, sex from student where id = 8\")\n",
        "data_row = my_cursor.fetchone()\n",
        "print(data_row)"
      ],
      "metadata": {
        "colab": {
          "base_uri": "https://localhost:8080/"
        },
        "id": "NyWvq0gikm_V",
        "outputId": "99406670-7cda-4b77-8dac-71b5690fd320"
      },
      "execution_count": 7,
      "outputs": [
        {
          "output_type": "stream",
          "name": "stdout",
          "text": [
            "(8, 'Asruid', 'Five', 85, 'male')\n"
          ]
        }
      ]
    },
    {
      "cell_type": "code",
      "source": [
        "# select 10 records only\n",
        "q = \"SELECT id, name, class, mark, sex FROM student limit 0, 10\"\n",
        "my_cursor = my_conn.execute(q)\n",
        "data_row = my_cursor.fetchall()\n",
        "print(type(data_row))\n",
        "print(\"No of records :  {}\".format(len(data_row)))\n",
        "for row in data_row:\n",
        "  print(row)"
      ],
      "metadata": {
        "colab": {
          "base_uri": "https://localhost:8080/"
        },
        "id": "qBUGNLI9k2bB",
        "outputId": "ad7725a5-765a-469d-c623-30180273009a"
      },
      "execution_count": 8,
      "outputs": [
        {
          "output_type": "stream",
          "name": "stdout",
          "text": [
            "<class 'list'>\n",
            "No of records :  10\n",
            "(1, 'John Deo', 'Four', 75, 'female')\n",
            "(2, 'Max Ruin', 'Three', 85, 'male')\n",
            "(3, 'Arnold', 'Three', 55, 'male')\n",
            "(4, 'Krish Star', 'Four', 60, 'female')\n",
            "(5, 'John Mike', 'Four', 60, 'female')\n",
            "(6, 'Alex John', 'Four', 55, 'male')\n",
            "(7, 'My John Rob', 'Five', 78, 'male')\n",
            "(8, 'Asruid', 'Five', 85, 'male')\n",
            "(9, 'Tes Qry', 'Six', 78, 'male')\n",
            "(10, 'Big John', 'Four', 55, 'female')\n"
          ]
        }
      ]
    },
    {
      "cell_type": "code",
      "source": [
        "# delete sample table student\n",
        "from sqlalchemy.exc import SQLAlchemyError\n",
        "try:\n",
        "  my_conn.execute('''DROP table student;''')\n",
        "  print(\"student table deleted\")\n",
        "except SQLAlchemyError as e:\n",
        "  error = str(e._dict_['orig'])\n",
        "  print(error)\n",
        "  #print(e)"
      ],
      "metadata": {
        "colab": {
          "base_uri": "https://localhost:8080/"
        },
        "id": "7cTJzADmnWpR",
        "outputId": "d51faf25-8583-4e9d-a08f-fcce22c97f79"
      },
      "execution_count": 9,
      "outputs": [
        {
          "output_type": "stream",
          "name": "stdout",
          "text": [
            "student table deleted\n"
          ]
        }
      ]
    },
    {
      "cell_type": "code",
      "source": [
        "from sqlalchemy import create_engine\n",
        "my_conn = create_engine(\"sqlite:////content/my_db.db\")\n",
        "\n",
        "# Show the list of tables\n",
        "r_set = my_conn.execute('''select name from sqlite_master where type = 'table' ''')\n",
        "for row in r_set:\n",
        "  print(row)"
      ],
      "metadata": {
        "colab": {
          "base_uri": "https://localhost:8080/"
        },
        "id": "DVwpK-aaoN7E",
        "outputId": "25328abf-007e-46de-a0fa-1eb1bd29f143"
      },
      "execution_count": 10,
      "outputs": [
        {
          "output_type": "stream",
          "name": "stdout",
          "text": [
            "('category',)\n",
            "('subcategory',)\n"
          ]
        }
      ]
    },
    {
      "cell_type": "code",
      "source": [
        "# Open file and run script\n",
        "with open(\"student_tables.sql\", \"r\") as file:\n",
        "    query = file.read()\n",
        "    my_conn.execute(query)\n",
        "\n",
        "# Show the list of tables\n",
        "r_set = my_conn.execute(\"SELECT name FROM sqlite_master WHERE type = 'table'\")\n",
        "for row in r_set:\n",
        "  print(row)"
      ],
      "metadata": {
        "colab": {
          "base_uri": "https://localhost:8080/"
        },
        "id": "iHlnTb3AofL4",
        "outputId": "bcf59515-6280-4611-e8e4-90d992f60a5c"
      },
      "execution_count": 11,
      "outputs": [
        {
          "output_type": "stream",
          "name": "stdout",
          "text": [
            "('category',)\n",
            "('subcategory',)\n",
            "('student',)\n"
          ]
        }
      ]
    },
    {
      "cell_type": "code",
      "source": [
        "with open(\"student_insert.sql\", \"r\") as file:\n",
        "    query = file.read()\n",
        "    my_conn.execute(query)\n",
        "\n",
        "r_set = my_conn.execute('''SELECT * FROM student ''')\n",
        "for row in r_set:\n",
        "  print(row)"
      ],
      "metadata": {
        "colab": {
          "base_uri": "https://localhost:8080/"
        },
        "id": "K0VhN8hnoqUi",
        "outputId": "4a990afa-0a9b-4b9d-a6ba-636ec8465237"
      },
      "execution_count": 12,
      "outputs": [
        {
          "output_type": "stream",
          "name": "stdout",
          "text": [
            "(1, 'John Deo', 'Four', 75, 'female')\n",
            "(2, 'Max Ruin', 'Three', 85, 'male')\n",
            "(3, 'Arnold', 'Three', 55, 'male')\n",
            "(4, 'Krish Star', 'Four', 60, 'female')\n",
            "(5, 'John Mike', 'Four', 60, 'female')\n",
            "(6, 'Alex John', 'Four', 55, 'male')\n",
            "(7, 'My John Rob', 'Five', 78, 'male')\n",
            "(8, 'Asruid', 'Five', 85, 'male')\n",
            "(9, 'Tes Qry', 'Six', 78, 'male')\n",
            "(10, 'Big John', 'Four', 55, 'female')\n",
            "(11, 'Ronald', 'Six', 89, 'female')\n",
            "(27, 'Big Nose', 'Three', 81, 'female')\n",
            "(28, 'Rojj Base', 'Seven', 86, 'female')\n",
            "(29, 'Tess Played', 'Seven', 55, 'male')\n",
            "(30, 'Reppy Red', 'Six', 79, 'female')\n",
            "(31, 'Marry Toeey', 'Four', 88, 'male')\n",
            "(32, 'Binn Rott', 'Seven', 90, 'female')\n",
            "(33, 'Kenn Rein', 'Six', 96, 'female')\n",
            "(34, 'Gain Toe', 'Seven', 69, 'male')\n",
            "(35, 'Rows Noump', 'Six', 88, 'female')\n"
          ]
        }
      ]
    },
    {
      "cell_type": "code",
      "source": [
        "from sqlalchemy.exc import SQLAlchemyError\n",
        "q = \"UPDATE student SET mark = mark + 1\"\n",
        "try:\n",
        "  r_set = my_conn.execute(q)\n",
        "except SQLAlchemyError as e:\n",
        "  error = str(e__dict__['orig'])\n",
        "  print(error)\n",
        "else:\n",
        "  print(\"No of records updated : \", r_set.rowcount)"
      ],
      "metadata": {
        "colab": {
          "base_uri": "https://localhost:8080/"
        },
        "id": "aISHudO4qni8",
        "outputId": "6b4a90dc-5b7b-49d8-bbd9-cd10c91496f8"
      },
      "execution_count": 13,
      "outputs": [
        {
          "output_type": "stream",
          "name": "stdout",
          "text": [
            "No of records updated :  20\n"
          ]
        }
      ]
    },
    {
      "cell_type": "code",
      "source": [
        "r_set = my_conn.execute('''SELECT * FROM student''')\n",
        "for row in r_set:\n",
        "  print(row)"
      ],
      "metadata": {
        "colab": {
          "base_uri": "https://localhost:8080/"
        },
        "id": "TrlIpqU5rmjs",
        "outputId": "19d42ec2-2651-4e04-bd9a-134d2e662401"
      },
      "execution_count": 14,
      "outputs": [
        {
          "output_type": "stream",
          "name": "stdout",
          "text": [
            "(1, 'John Deo', 'Four', 76, 'female')\n",
            "(2, 'Max Ruin', 'Three', 86, 'male')\n",
            "(3, 'Arnold', 'Three', 56, 'male')\n",
            "(4, 'Krish Star', 'Four', 61, 'female')\n",
            "(5, 'John Mike', 'Four', 61, 'female')\n",
            "(6, 'Alex John', 'Four', 56, 'male')\n",
            "(7, 'My John Rob', 'Five', 79, 'male')\n",
            "(8, 'Asruid', 'Five', 86, 'male')\n",
            "(9, 'Tes Qry', 'Six', 79, 'male')\n",
            "(10, 'Big John', 'Four', 56, 'female')\n",
            "(11, 'Ronald', 'Six', 90, 'female')\n",
            "(27, 'Big Nose', 'Three', 82, 'female')\n",
            "(28, 'Rojj Base', 'Seven', 87, 'female')\n",
            "(29, 'Tess Played', 'Seven', 56, 'male')\n",
            "(30, 'Reppy Red', 'Six', 80, 'female')\n",
            "(31, 'Marry Toeey', 'Four', 89, 'male')\n",
            "(32, 'Binn Rott', 'Seven', 91, 'female')\n",
            "(33, 'Kenn Rein', 'Six', 97, 'female')\n",
            "(34, 'Gain Toe', 'Seven', 70, 'male')\n",
            "(35, 'Rows Noump', 'Six', 89, 'female')\n"
          ]
        }
      ]
    },
    {
      "cell_type": "code",
      "source": [
        "from sqlalchemy.exc import SQLAlchemyError\n",
        "q = \"UPDATE student SEt mark = mark + 1 WHERE id = 7\"\n",
        "try:\n",
        "  r_set = my_conn.execute(q)\n",
        "except SQLAlchemyError as e:\n",
        "  error=str(e.__dict__['orig'])\n",
        "  print(error)\n",
        "else:\n",
        "  print(\"No of records updated : \", r_set.rowcount)"
      ],
      "metadata": {
        "colab": {
          "base_uri": "https://localhost:8080/"
        },
        "id": "YikoOLFlruXh",
        "outputId": "9406f4fe-d788-42b9-92da-93bce88d0b8b"
      },
      "execution_count": 15,
      "outputs": [
        {
          "output_type": "stream",
          "name": "stdout",
          "text": [
            "No of records updated :  1\n"
          ]
        }
      ]
    },
    {
      "cell_type": "code",
      "source": [
        "r_set = my_conn.execute('''SELECT * FROM student''');\n",
        "for row in r_set:\n",
        "  print(row)"
      ],
      "metadata": {
        "colab": {
          "base_uri": "https://localhost:8080/"
        },
        "id": "a1bIoPM_sSx1",
        "outputId": "9b850d93-87b2-4a35-93dd-2039c34d2c53"
      },
      "execution_count": 16,
      "outputs": [
        {
          "output_type": "stream",
          "name": "stdout",
          "text": [
            "(1, 'John Deo', 'Four', 76, 'female')\n",
            "(2, 'Max Ruin', 'Three', 86, 'male')\n",
            "(3, 'Arnold', 'Three', 56, 'male')\n",
            "(4, 'Krish Star', 'Four', 61, 'female')\n",
            "(5, 'John Mike', 'Four', 61, 'female')\n",
            "(6, 'Alex John', 'Four', 56, 'male')\n",
            "(7, 'My John Rob', 'Five', 80, 'male')\n",
            "(8, 'Asruid', 'Five', 86, 'male')\n",
            "(9, 'Tes Qry', 'Six', 79, 'male')\n",
            "(10, 'Big John', 'Four', 56, 'female')\n",
            "(11, 'Ronald', 'Six', 90, 'female')\n",
            "(27, 'Big Nose', 'Three', 82, 'female')\n",
            "(28, 'Rojj Base', 'Seven', 87, 'female')\n",
            "(29, 'Tess Played', 'Seven', 56, 'male')\n",
            "(30, 'Reppy Red', 'Six', 80, 'female')\n",
            "(31, 'Marry Toeey', 'Four', 89, 'male')\n",
            "(32, 'Binn Rott', 'Seven', 91, 'female')\n",
            "(33, 'Kenn Rein', 'Six', 97, 'female')\n",
            "(34, 'Gain Toe', 'Seven', 70, 'male')\n",
            "(35, 'Rows Noump', 'Six', 89, 'female')\n"
          ]
        }
      ]
    },
    {
      "cell_type": "code",
      "source": [
        "from sqlalchemy.exc import SQLAlchemyError\n",
        "q = \"UPDATE student SET mark = mark + 1 WHERE class='Four'\"\n",
        "try:\n",
        "  r_set = my_conn.execute(q)\n",
        "except SQLAlchemyError as e:\n",
        "  error = str(e.__dict__['orig'])\n",
        "  print(error)\n",
        "else:\n",
        "  print(\"No of records updated : \", r_set.rowcount)"
      ],
      "metadata": {
        "colab": {
          "base_uri": "https://localhost:8080/"
        },
        "id": "BQsdJCWSsbqG",
        "outputId": "c1a7267c-d473-40eb-c0c5-b7be9356097c"
      },
      "execution_count": 17,
      "outputs": [
        {
          "output_type": "stream",
          "name": "stdout",
          "text": [
            "No of records updated :  6\n"
          ]
        }
      ]
    },
    {
      "cell_type": "code",
      "source": [
        "r_set = my_conn.execute('''SELECT * FROM student''')\n",
        "for row in r_set:\n",
        "  print(row)"
      ],
      "metadata": {
        "colab": {
          "base_uri": "https://localhost:8080/"
        },
        "id": "Ht_MCjCMs_jU",
        "outputId": "b31e726a-c93d-4445-fd29-b408557b9fff"
      },
      "execution_count": 18,
      "outputs": [
        {
          "output_type": "stream",
          "name": "stdout",
          "text": [
            "(1, 'John Deo', 'Four', 77, 'female')\n",
            "(2, 'Max Ruin', 'Three', 86, 'male')\n",
            "(3, 'Arnold', 'Three', 56, 'male')\n",
            "(4, 'Krish Star', 'Four', 62, 'female')\n",
            "(5, 'John Mike', 'Four', 62, 'female')\n",
            "(6, 'Alex John', 'Four', 57, 'male')\n",
            "(7, 'My John Rob', 'Five', 80, 'male')\n",
            "(8, 'Asruid', 'Five', 86, 'male')\n",
            "(9, 'Tes Qry', 'Six', 79, 'male')\n",
            "(10, 'Big John', 'Four', 57, 'female')\n",
            "(11, 'Ronald', 'Six', 90, 'female')\n",
            "(27, 'Big Nose', 'Three', 82, 'female')\n",
            "(28, 'Rojj Base', 'Seven', 87, 'female')\n",
            "(29, 'Tess Played', 'Seven', 56, 'male')\n",
            "(30, 'Reppy Red', 'Six', 80, 'female')\n",
            "(31, 'Marry Toeey', 'Four', 90, 'male')\n",
            "(32, 'Binn Rott', 'Seven', 91, 'female')\n",
            "(33, 'Kenn Rein', 'Six', 97, 'female')\n",
            "(34, 'Gain Toe', 'Seven', 70, 'male')\n",
            "(35, 'Rows Noump', 'Six', 89, 'female')\n"
          ]
        }
      ]
    },
    {
      "cell_type": "code",
      "source": [
        "from sqlalchemy.exc import SQLAlchemyError\n",
        "q = \"UPdATE student SET class = 'Four' WHERE class = 'Three' \"\n",
        "try:\n",
        "  r_set = my_conn.execute(q)\n",
        "except SQLAlchemyError as e:\n",
        "  error = str(e.__dict__['orig'])\n",
        "else:\n",
        "  print(\"No of records updated : \", r_set.rowcount)\n"
      ],
      "metadata": {
        "colab": {
          "base_uri": "https://localhost:8080/"
        },
        "id": "WquKDP0GtH1x",
        "outputId": "9597bb10-b88e-460e-e882-f59e7527db19"
      },
      "execution_count": 19,
      "outputs": [
        {
          "output_type": "stream",
          "name": "stdout",
          "text": [
            "No of records updated :  3\n"
          ]
        }
      ]
    },
    {
      "cell_type": "code",
      "source": [
        "r_set = my_conn.execute('''SELECT * FROM student''')\n",
        "for row in r_set:\n",
        "  print(row)"
      ],
      "metadata": {
        "colab": {
          "base_uri": "https://localhost:8080/"
        },
        "id": "PgPsxhIqtd-2",
        "outputId": "85554c76-704f-4e0d-b14e-53d9f979e3a6"
      },
      "execution_count": 20,
      "outputs": [
        {
          "output_type": "stream",
          "name": "stdout",
          "text": [
            "(1, 'John Deo', 'Four', 77, 'female')\n",
            "(2, 'Max Ruin', 'Four', 86, 'male')\n",
            "(3, 'Arnold', 'Four', 56, 'male')\n",
            "(4, 'Krish Star', 'Four', 62, 'female')\n",
            "(5, 'John Mike', 'Four', 62, 'female')\n",
            "(6, 'Alex John', 'Four', 57, 'male')\n",
            "(7, 'My John Rob', 'Five', 80, 'male')\n",
            "(8, 'Asruid', 'Five', 86, 'male')\n",
            "(9, 'Tes Qry', 'Six', 79, 'male')\n",
            "(10, 'Big John', 'Four', 57, 'female')\n",
            "(11, 'Ronald', 'Six', 90, 'female')\n",
            "(27, 'Big Nose', 'Four', 82, 'female')\n",
            "(28, 'Rojj Base', 'Seven', 87, 'female')\n",
            "(29, 'Tess Played', 'Seven', 56, 'male')\n",
            "(30, 'Reppy Red', 'Six', 80, 'female')\n",
            "(31, 'Marry Toeey', 'Four', 90, 'male')\n",
            "(32, 'Binn Rott', 'Seven', 91, 'female')\n",
            "(33, 'Kenn Rein', 'Six', 97, 'female')\n",
            "(34, 'Gain Toe', 'Seven', 70, 'male')\n",
            "(35, 'Rows Noump', 'Six', 89, 'female')\n"
          ]
        }
      ]
    },
    {
      "cell_type": "code",
      "source": [
        "from sqlalchemy.exc import SQLAlchemyError\n",
        "id = input(\"Enter student id : \")\n",
        "my_data = (id,)\n",
        "q = \"UPDATE student SET mark = mark + 5 WHERE id = ?\"\n",
        "try:\n",
        "  r_set = my_conn.execute(q, my_data)\n",
        "except SQLAlchemy as e:\n",
        "  error = str(e.__dict__['orig'])\n",
        "  print(error)\n",
        "else:\n",
        "  print(\"No of records updated : \", r_set.rowcount)"
      ],
      "metadata": {
        "colab": {
          "base_uri": "https://localhost:8080/"
        },
        "id": "aPdSPFEOtlfg",
        "outputId": "efdf3800-17bc-45cc-970d-66377b559621"
      },
      "execution_count": 21,
      "outputs": [
        {
          "output_type": "stream",
          "name": "stdout",
          "text": [
            "Enter student id : 11\n",
            "No of records updated :  1\n"
          ]
        }
      ]
    },
    {
      "cell_type": "code",
      "source": [
        "from sqlalchemy.exc import SQLAlchemyError\n",
        "my_data = ('Six', 'Seven')\n",
        "q = \"UPDATE student SET class = ? WHERE class = ?\"\n",
        "try:\n",
        "  r_set = my_conn.execute(q, my_data)\n",
        "except SQLAlchemyError as e:\n",
        "  error = str(e.__dict__['orig'])\n",
        "  print(error)\n",
        "else:\n",
        "  print(\"No of records updated : \", r_set.rowcount)"
      ],
      "metadata": {
        "colab": {
          "base_uri": "https://localhost:8080/"
        },
        "id": "ejfgcG-ouKo_",
        "outputId": "f2438e38-9714-4bfd-afa6-1b38a2f5c405"
      },
      "execution_count": 22,
      "outputs": [
        {
          "output_type": "stream",
          "name": "stdout",
          "text": [
            "No of records updated :  4\n"
          ]
        }
      ]
    },
    {
      "cell_type": "code",
      "source": [
        "r_set = my_conn.execute('''SELECT * FROM student''')\n",
        "for row in r_set:\n",
        "  print(row)"
      ],
      "metadata": {
        "colab": {
          "base_uri": "https://localhost:8080/"
        },
        "id": "f0WKAGk7uleY",
        "outputId": "7dcae6a7-cbab-4d1d-e641-5a00fd87064b"
      },
      "execution_count": 23,
      "outputs": [
        {
          "output_type": "stream",
          "name": "stdout",
          "text": [
            "(1, 'John Deo', 'Four', 77, 'female')\n",
            "(2, 'Max Ruin', 'Four', 86, 'male')\n",
            "(3, 'Arnold', 'Four', 56, 'male')\n",
            "(4, 'Krish Star', 'Four', 62, 'female')\n",
            "(5, 'John Mike', 'Four', 62, 'female')\n",
            "(6, 'Alex John', 'Four', 57, 'male')\n",
            "(7, 'My John Rob', 'Five', 80, 'male')\n",
            "(8, 'Asruid', 'Five', 86, 'male')\n",
            "(9, 'Tes Qry', 'Six', 79, 'male')\n",
            "(10, 'Big John', 'Four', 57, 'female')\n",
            "(11, 'Ronald', 'Six', 95, 'female')\n",
            "(27, 'Big Nose', 'Four', 82, 'female')\n",
            "(28, 'Rojj Base', 'Six', 87, 'female')\n",
            "(29, 'Tess Played', 'Six', 56, 'male')\n",
            "(30, 'Reppy Red', 'Six', 80, 'female')\n",
            "(31, 'Marry Toeey', 'Four', 90, 'male')\n",
            "(32, 'Binn Rott', 'Six', 91, 'female')\n",
            "(33, 'Kenn Rein', 'Six', 97, 'female')\n",
            "(34, 'Gain Toe', 'Six', 70, 'male')\n",
            "(35, 'Rows Noump', 'Six', 89, 'female')\n"
          ]
        }
      ]
    },
    {
      "cell_type": "code",
      "source": [
        "from sqlalchemy.exc import SQLAlchemyError\n",
        "q = \"SELECT DISTINCT(class) FROM student\"\n",
        "try:\n",
        "  r_set = my_conn.execute(q)\n",
        "  data = r_set.fetchall()\n",
        "  for row in data:\n",
        "    print(row[0])\n",
        "except SQLAlchemyError as e:\n",
        "    error = str(e.__dict__['orig'])\n",
        "    print(error)\n",
        "else:\n",
        "    print(\"No of records displayed : \", len(data))"
      ],
      "metadata": {
        "colab": {
          "base_uri": "https://localhost:8080/"
        },
        "id": "RvLix-3lvlvt",
        "outputId": "56a6fa34-b1fc-45a6-da7e-cee248f30caa"
      },
      "execution_count": 24,
      "outputs": [
        {
          "output_type": "stream",
          "name": "stdout",
          "text": [
            "Four\n",
            "Five\n",
            "Six\n",
            "No of records displayed :  3\n"
          ]
        }
      ]
    },
    {
      "cell_type": "code",
      "source": [
        "from sqlalchemy.exc import SQLAlchemyError\n",
        "q = \"SELECT DISTINCT(class) FROM student WHERE mark >= 80\"\n",
        "try:\n",
        "  r_set = my_conn.execute(q)\n",
        "  data = r_set.fetchall()\n",
        "  for row in data:\n",
        "    print(row[0])\n",
        "except SQLAlchemyError as e:\n",
        "  error = str(e.__dict__['orig'])\n",
        "  print(error)\n",
        "else:\n",
        "  print(\"No of records displayed : \", len(data))"
      ],
      "metadata": {
        "colab": {
          "base_uri": "https://localhost:8080/"
        },
        "id": "FOUCoaOBwQwL",
        "outputId": "ab609066-ea50-49f3-f09d-355395b34155"
      },
      "execution_count": 25,
      "outputs": [
        {
          "output_type": "stream",
          "name": "stdout",
          "text": [
            "Four\n",
            "Five\n",
            "Six\n",
            "No of records displayed :  3\n"
          ]
        }
      ]
    },
    {
      "cell_type": "code",
      "source": [
        "from sqlalchemy.exc import SQLAlchemyError\n",
        "q = \"SELECT DISTINCT(class) FROM student order by class\"\n",
        "try:\n",
        "  r_set = my_conn.execute(q)\n",
        "  data = r_set.fetchall()\n",
        "  for row in data:\n",
        "    print(row[0])\n",
        "except SQLAlchemyError as e:\n",
        "  error = str(e.__dict__['orig'])\n",
        "  print(error)\n",
        "else:\n",
        "  print(\"No of records displayed : \", len(data))\n",
        "  "
      ],
      "metadata": {
        "id": "pl4CrXKQww_l",
        "colab": {
          "base_uri": "https://localhost:8080/"
        },
        "outputId": "25048f30-f01f-452d-f6e8-317371ca6304"
      },
      "execution_count": 26,
      "outputs": [
        {
          "output_type": "stream",
          "name": "stdout",
          "text": [
            "Five\n",
            "Four\n",
            "Six\n",
            "No of records displayed :  3\n"
          ]
        }
      ]
    },
    {
      "cell_type": "code",
      "source": [
        "from sqlalchemy.exc import SQLAlchemyError\n",
        "q = \"SELECT DISTINCT class, sex FROM student order by class\"\n",
        "try:\n",
        "  r_set  = my_conn.execute(q)\n",
        "  data = r_set.fetchall()\n",
        "  for row in data:\n",
        "    print(row[0], row[1])\n",
        "except SQLAlchemyError as e:\n",
        "  error = str(e.__dict__['orig'])\n",
        "  print(error)\n",
        "else:\n",
        "  print(\"No of records displayed : \", len(data))"
      ],
      "metadata": {
        "colab": {
          "base_uri": "https://localhost:8080/"
        },
        "id": "qO3YRJTi3d3j",
        "outputId": "ed435ac6-066d-4217-8675-a6fd9840ee66"
      },
      "execution_count": 27,
      "outputs": [
        {
          "output_type": "stream",
          "name": "stdout",
          "text": [
            "Five male\n",
            "Four female\n",
            "Four male\n",
            "Six male\n",
            "Six female\n",
            "No of records displayed :  5\n"
          ]
        }
      ]
    },
    {
      "cell_type": "code",
      "source": [
        "from sqlalchemy.exc import SQLAlchemyError\n",
        "q = \"DELETE FROM student WHERE id = 5\"\n",
        "try:\n",
        "  r_set = my_conn.execute(q)\n",
        "except SQLAlchemyError as e:\n",
        "  error = str(e.__dict__['orig'])\n",
        "  print(error)\n",
        "else:\n",
        "  print(\"No of recordds deleted : \", r_set.rowcount)"
      ],
      "metadata": {
        "colab": {
          "base_uri": "https://localhost:8080/"
        },
        "id": "ghKCq35K3-Pw",
        "outputId": "1e5f0f78-0ce3-4b54-abd7-e1fdf54ee8f8"
      },
      "execution_count": 28,
      "outputs": [
        {
          "output_type": "stream",
          "name": "stdout",
          "text": [
            "No of recordds deleted :  1\n"
          ]
        }
      ]
    },
    {
      "cell_type": "code",
      "source": [
        "from sqlalchemy.exc import SQLAlchemyError\n",
        "q = \"DELETE FROM student WHERE class = 'Four'\"\n",
        "try:\n",
        "  r_set = my_conn.execute(q)\n",
        "except SQLAlchemyError as e:\n",
        "  error = str(e.__dict__['orig'])\n",
        "  print(error)\n",
        "else:\n",
        "  print(\"No of records deleted : \", r_set.rowcount)"
      ],
      "metadata": {
        "colab": {
          "base_uri": "https://localhost:8080/"
        },
        "id": "zWpsaSng4U9P",
        "outputId": "21735856-1445-4647-9394-ef3a9f314c76"
      },
      "execution_count": 29,
      "outputs": [
        {
          "output_type": "stream",
          "name": "stdout",
          "text": [
            "No of records deleted :  8\n"
          ]
        }
      ]
    },
    {
      "cell_type": "code",
      "source": [
        "from sqlalchemy.exc import SQLAlchemyError\n",
        "my_data = (\"Five\",)\n",
        "q = \"DELETE FROM student WHERE class = ?\"\n",
        "try:\n",
        "  r_set = my_conn.execute(q, my_data)\n",
        "except SQLAlchemyError as e:\n",
        "  error = str(e.__dict__['orig'])\n",
        "  print(error)\n",
        "else:\n",
        "  print(\"No of records deleted : \",r_set.rowcount)"
      ],
      "metadata": {
        "colab": {
          "base_uri": "https://localhost:8080/"
        },
        "id": "h2ycMNX34phq",
        "outputId": "c82f932e-e54a-44fd-8962-e67f4d48bc51"
      },
      "execution_count": 30,
      "outputs": [
        {
          "output_type": "stream",
          "name": "stdout",
          "text": [
            "No of records deleted :  2\n"
          ]
        }
      ]
    },
    {
      "cell_type": "code",
      "source": [
        "from sqlalchemy.exc import SQLAlchemyError\n",
        "my_data = (\"Six\", \"Seven\")\n",
        "q = \"DELETE FROM student WHERE class = ? OR class = ?\"\n",
        "try:\n",
        "  r_set = my_conn.execute(q, my_data)\n",
        "except SQLAlchemyError as e:\n",
        "  error = str(e.__dict__['orig'])\n",
        "  print(error)\n",
        "else:\n",
        "  print(\"No of records deleted : \", r_set.rowcount)"
      ],
      "metadata": {
        "colab": {
          "base_uri": "https://localhost:8080/"
        },
        "id": "Q_i2Tdt-5SEi",
        "outputId": "29209718-a26f-489e-b690-43da20edb5c3"
      },
      "execution_count": 31,
      "outputs": [
        {
          "output_type": "stream",
          "name": "stdout",
          "text": [
            "No of records deleted :  9\n"
          ]
        }
      ]
    },
    {
      "cell_type": "code",
      "source": [
        "from sqlalchemy.exc import SQLAlchemyError\n",
        "q = \"DELETE FROM student\"\n",
        "try:\n",
        "  r_set = my_conn.execute(q)\n",
        "except SQLAlchemyError as e:\n",
        "  error = str(e.__dict__['orig'])\n",
        "  print(error)\n",
        "else:\n",
        "  print(\"No of records deleted : \", r_set.rowcount)"
      ],
      "metadata": {
        "colab": {
          "base_uri": "https://localhost:8080/"
        },
        "id": "5sW7cHey5SBz",
        "outputId": "0dd41f1d-e756-4448-b2b2-5e19a5f30593"
      },
      "execution_count": 32,
      "outputs": [
        {
          "output_type": "stream",
          "name": "stdout",
          "text": [
            "No of records deleted :  0\n"
          ]
        }
      ]
    }
  ]
}